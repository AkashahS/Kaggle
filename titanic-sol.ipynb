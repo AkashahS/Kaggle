{
 "cells": [
  {
   "cell_type": "code",
   "execution_count": 1,
   "id": "0fcc50f4",
   "metadata": {
    "_cell_guid": "b1076dfc-b9ad-4769-8c92-a6c4dae69d19",
    "_uuid": "8f2839f25d086af736a60e9eeb907d3b93b6e0e5",
    "execution": {
     "iopub.execute_input": "2022-10-27T07:11:43.520681Z",
     "iopub.status.busy": "2022-10-27T07:11:43.519969Z",
     "iopub.status.idle": "2022-10-27T07:11:43.536087Z",
     "shell.execute_reply": "2022-10-27T07:11:43.534687Z"
    },
    "papermill": {
     "duration": 0.025713,
     "end_time": "2022-10-27T07:11:43.539306",
     "exception": false,
     "start_time": "2022-10-27T07:11:43.513593",
     "status": "completed"
    },
    "tags": []
   },
   "outputs": [
    {
     "name": "stdout",
     "output_type": "stream",
     "text": [
      "/kaggle/input/titanic/train.csv\n",
      "/kaggle/input/titanic/test.csv\n",
      "/kaggle/input/titanic/gender_submission.csv\n"
     ]
    }
   ],
   "source": [
    "import numpy as np \n",
    "import pandas as pd \n",
    "import os\n",
    "\n",
    "for dirname, _, filenames in os.walk('/kaggle/input'):\n",
    "    for filename in filenames:\n",
    "        print(os.path.join(dirname, filename))"
   ]
  },
  {
   "cell_type": "code",
   "execution_count": 2,
   "id": "680305c8",
   "metadata": {
    "execution": {
     "iopub.execute_input": "2022-10-27T07:11:43.547449Z",
     "iopub.status.busy": "2022-10-27T07:11:43.547001Z",
     "iopub.status.idle": "2022-10-27T07:11:43.605794Z",
     "shell.execute_reply": "2022-10-27T07:11:43.604488Z"
    },
    "papermill": {
     "duration": 0.066028,
     "end_time": "2022-10-27T07:11:43.608545",
     "exception": false,
     "start_time": "2022-10-27T07:11:43.542517",
     "status": "completed"
    },
    "tags": []
   },
   "outputs": [
    {
     "data": {
      "text/html": [
       "<div>\n",
       "<style scoped>\n",
       "    .dataframe tbody tr th:only-of-type {\n",
       "        vertical-align: middle;\n",
       "    }\n",
       "\n",
       "    .dataframe tbody tr th {\n",
       "        vertical-align: top;\n",
       "    }\n",
       "\n",
       "    .dataframe thead th {\n",
       "        text-align: right;\n",
       "    }\n",
       "</style>\n",
       "<table border=\"1\" class=\"dataframe\">\n",
       "  <thead>\n",
       "    <tr style=\"text-align: right;\">\n",
       "      <th></th>\n",
       "      <th>PassengerId</th>\n",
       "      <th>Pclass</th>\n",
       "      <th>Name</th>\n",
       "      <th>Sex</th>\n",
       "      <th>Age</th>\n",
       "      <th>SibSp</th>\n",
       "      <th>Parch</th>\n",
       "      <th>Ticket</th>\n",
       "      <th>Fare</th>\n",
       "      <th>Cabin</th>\n",
       "      <th>Embarked</th>\n",
       "    </tr>\n",
       "  </thead>\n",
       "  <tbody>\n",
       "    <tr>\n",
       "      <th>0</th>\n",
       "      <td>892</td>\n",
       "      <td>3</td>\n",
       "      <td>Kelly, Mr. James</td>\n",
       "      <td>male</td>\n",
       "      <td>34.5</td>\n",
       "      <td>0</td>\n",
       "      <td>0</td>\n",
       "      <td>330911</td>\n",
       "      <td>7.8292</td>\n",
       "      <td>NaN</td>\n",
       "      <td>Q</td>\n",
       "    </tr>\n",
       "    <tr>\n",
       "      <th>1</th>\n",
       "      <td>893</td>\n",
       "      <td>3</td>\n",
       "      <td>Wilkes, Mrs. James (Ellen Needs)</td>\n",
       "      <td>female</td>\n",
       "      <td>47.0</td>\n",
       "      <td>1</td>\n",
       "      <td>0</td>\n",
       "      <td>363272</td>\n",
       "      <td>7.0000</td>\n",
       "      <td>NaN</td>\n",
       "      <td>S</td>\n",
       "    </tr>\n",
       "    <tr>\n",
       "      <th>2</th>\n",
       "      <td>894</td>\n",
       "      <td>2</td>\n",
       "      <td>Myles, Mr. Thomas Francis</td>\n",
       "      <td>male</td>\n",
       "      <td>62.0</td>\n",
       "      <td>0</td>\n",
       "      <td>0</td>\n",
       "      <td>240276</td>\n",
       "      <td>9.6875</td>\n",
       "      <td>NaN</td>\n",
       "      <td>Q</td>\n",
       "    </tr>\n",
       "    <tr>\n",
       "      <th>3</th>\n",
       "      <td>895</td>\n",
       "      <td>3</td>\n",
       "      <td>Wirz, Mr. Albert</td>\n",
       "      <td>male</td>\n",
       "      <td>27.0</td>\n",
       "      <td>0</td>\n",
       "      <td>0</td>\n",
       "      <td>315154</td>\n",
       "      <td>8.6625</td>\n",
       "      <td>NaN</td>\n",
       "      <td>S</td>\n",
       "    </tr>\n",
       "    <tr>\n",
       "      <th>4</th>\n",
       "      <td>896</td>\n",
       "      <td>3</td>\n",
       "      <td>Hirvonen, Mrs. Alexander (Helga E Lindqvist)</td>\n",
       "      <td>female</td>\n",
       "      <td>22.0</td>\n",
       "      <td>1</td>\n",
       "      <td>1</td>\n",
       "      <td>3101298</td>\n",
       "      <td>12.2875</td>\n",
       "      <td>NaN</td>\n",
       "      <td>S</td>\n",
       "    </tr>\n",
       "  </tbody>\n",
       "</table>\n",
       "</div>"
      ],
      "text/plain": [
       "   PassengerId  Pclass                                          Name     Sex  \\\n",
       "0          892       3                              Kelly, Mr. James    male   \n",
       "1          893       3              Wilkes, Mrs. James (Ellen Needs)  female   \n",
       "2          894       2                     Myles, Mr. Thomas Francis    male   \n",
       "3          895       3                              Wirz, Mr. Albert    male   \n",
       "4          896       3  Hirvonen, Mrs. Alexander (Helga E Lindqvist)  female   \n",
       "\n",
       "    Age  SibSp  Parch   Ticket     Fare Cabin Embarked  \n",
       "0  34.5      0      0   330911   7.8292   NaN        Q  \n",
       "1  47.0      1      0   363272   7.0000   NaN        S  \n",
       "2  62.0      0      0   240276   9.6875   NaN        Q  \n",
       "3  27.0      0      0   315154   8.6625   NaN        S  \n",
       "4  22.0      1      1  3101298  12.2875   NaN        S  "
      ]
     },
     "execution_count": 2,
     "metadata": {},
     "output_type": "execute_result"
    }
   ],
   "source": [
    "# loading data\n",
    "train_data = pd.read_csv(\"/kaggle/input/titanic/train.csv\")\n",
    "train_data.head()\n",
    "test_data = pd.read_csv(\"/kaggle/input/titanic/test.csv\")\n",
    "test_data.head()"
   ]
  },
  {
   "cell_type": "code",
   "execution_count": 3,
   "id": "e984578d",
   "metadata": {
    "execution": {
     "iopub.execute_input": "2022-10-27T07:11:43.616832Z",
     "iopub.status.busy": "2022-10-27T07:11:43.616345Z",
     "iopub.status.idle": "2022-10-27T07:11:43.655692Z",
     "shell.execute_reply": "2022-10-27T07:11:43.654445Z"
    },
    "papermill": {
     "duration": 0.046939,
     "end_time": "2022-10-27T07:11:43.658769",
     "exception": false,
     "start_time": "2022-10-27T07:11:43.611830",
     "status": "completed"
    },
    "tags": []
   },
   "outputs": [],
   "source": [
    "# Preprocessing data\n",
    "\n",
    "all_data = [train_data,test_data]\n",
    "\n",
    "#creating column for titles \n",
    "title_list = ['Mr.', 'Mrs.', 'Miss.', 'Master.', 'Ms.', 'Col.', 'Rev.', 'Dr.']\n",
    "\n",
    "for data in all_data:\n",
    "    # extract title from name\n",
    "    titles = data['Name'].str.extract(r', (\\w+\\.)')\n",
    "    \n",
    "    # add a column with titles that match to predifined title list\n",
    "    data[\"Title\"] = titles.where(titles.isin(title_list))\n",
    "    \n",
    "    # if no title is found replace with Mrs. \n",
    "    data['Title'].fillna(\"Mrs.\",inplace = True)\n",
    "    \n",
    "# guessing age by title (mean) \n",
    "\n",
    "for data in all_data:\n",
    "    #grouping data by title and calculating mean age of every group\n",
    "    mean_age_by_title = data.groupby(data[\"Title\"])[\"Age\"].mean()\n",
    "    \n",
    "    #Replace 0 age with mean_age_by_title\n",
    "    data.replace({\"Age\":{0 or np.nan:mean_age_by_title[data[\"Title\"]]}},inplace = True)\n",
    "    data[\"Age\"]= data[\"Age\"].fillna(0).astype(int)\n",
    "    \n",
    "# clearing fare\n",
    "for data in all_data:\n",
    "    data[\"Fare\"]= data[\"Fare\"].fillna(0).astype(int)\n",
    "    data[\"Fare\"].where(data[\"Fare\"]>300,300,inplace = True)    "
   ]
  },
  {
   "cell_type": "code",
   "execution_count": 4,
   "id": "18d5ce16",
   "metadata": {
    "execution": {
     "iopub.execute_input": "2022-10-27T07:11:43.667216Z",
     "iopub.status.busy": "2022-10-27T07:11:43.666733Z",
     "iopub.status.idle": "2022-10-27T07:11:43.685399Z",
     "shell.execute_reply": "2022-10-27T07:11:43.683891Z"
    },
    "papermill": {
     "duration": 0.026144,
     "end_time": "2022-10-27T07:11:43.688182",
     "exception": false,
     "start_time": "2022-10-27T07:11:43.662038",
     "status": "completed"
    },
    "tags": []
   },
   "outputs": [
    {
     "name": "stdout",
     "output_type": "stream",
     "text": [
      "<class 'pandas.core.frame.DataFrame'>\n",
      "RangeIndex: 891 entries, 0 to 890\n",
      "Data columns (total 13 columns):\n",
      " #   Column       Non-Null Count  Dtype \n",
      "---  ------       --------------  ----- \n",
      " 0   PassengerId  891 non-null    int64 \n",
      " 1   Survived     891 non-null    int64 \n",
      " 2   Pclass       891 non-null    int64 \n",
      " 3   Name         891 non-null    object\n",
      " 4   Sex          891 non-null    object\n",
      " 5   Age          891 non-null    int64 \n",
      " 6   SibSp        891 non-null    int64 \n",
      " 7   Parch        891 non-null    int64 \n",
      " 8   Ticket       891 non-null    object\n",
      " 9   Fare         891 non-null    int64 \n",
      " 10  Cabin        204 non-null    object\n",
      " 11  Embarked     889 non-null    object\n",
      " 12  Title        891 non-null    object\n",
      "dtypes: int64(7), object(6)\n",
      "memory usage: 90.6+ KB\n"
     ]
    }
   ],
   "source": [
    "train_data.info()"
   ]
  },
  {
   "cell_type": "code",
   "execution_count": 5,
   "id": "ec33cce2",
   "metadata": {
    "execution": {
     "iopub.execute_input": "2022-10-27T07:11:43.696695Z",
     "iopub.status.busy": "2022-10-27T07:11:43.696211Z",
     "iopub.status.idle": "2022-10-27T07:11:43.710650Z",
     "shell.execute_reply": "2022-10-27T07:11:43.709715Z"
    },
    "papermill": {
     "duration": 0.022082,
     "end_time": "2022-10-27T07:11:43.713672",
     "exception": false,
     "start_time": "2022-10-27T07:11:43.691590",
     "status": "completed"
    },
    "tags": []
   },
   "outputs": [
    {
     "name": "stdout",
     "output_type": "stream",
     "text": [
      "<class 'pandas.core.frame.DataFrame'>\n",
      "RangeIndex: 418 entries, 0 to 417\n",
      "Data columns (total 12 columns):\n",
      " #   Column       Non-Null Count  Dtype \n",
      "---  ------       --------------  ----- \n",
      " 0   PassengerId  418 non-null    int64 \n",
      " 1   Pclass       418 non-null    int64 \n",
      " 2   Name         418 non-null    object\n",
      " 3   Sex          418 non-null    object\n",
      " 4   Age          418 non-null    int64 \n",
      " 5   SibSp        418 non-null    int64 \n",
      " 6   Parch        418 non-null    int64 \n",
      " 7   Ticket       418 non-null    object\n",
      " 8   Fare         418 non-null    int64 \n",
      " 9   Cabin        91 non-null     object\n",
      " 10  Embarked     418 non-null    object\n",
      " 11  Title        418 non-null    object\n",
      "dtypes: int64(6), object(6)\n",
      "memory usage: 39.3+ KB\n"
     ]
    }
   ],
   "source": [
    "test_data.info()"
   ]
  },
  {
   "cell_type": "code",
   "execution_count": 6,
   "id": "774935ad",
   "metadata": {
    "execution": {
     "iopub.execute_input": "2022-10-27T07:11:43.722279Z",
     "iopub.status.busy": "2022-10-27T07:11:43.721800Z",
     "iopub.status.idle": "2022-10-27T07:11:46.073299Z",
     "shell.execute_reply": "2022-10-27T07:11:46.071866Z"
    },
    "papermill": {
     "duration": 2.360029,
     "end_time": "2022-10-27T07:11:46.077162",
     "exception": false,
     "start_time": "2022-10-27T07:11:43.717133",
     "status": "completed"
    },
    "tags": []
   },
   "outputs": [
    {
     "name": "stdout",
     "output_type": "stream",
     "text": [
      "MAE scores:\n",
      " 0.8271420500910175\n",
      "Your submission was successfully saved!\n"
     ]
    }
   ],
   "source": [
    "from sklearn.ensemble import RandomForestClassifier\n",
    "from sklearn.impute import SimpleImputer\n",
    "from sklearn.model_selection import cross_val_score\n",
    "\n",
    "\n",
    "y = train_data[\"Survived\"]\n",
    "\n",
    "features = [\"Pclass\",\"Sex\",\"Age\",\"SibSp\",\"Parch\",\"Embarked\",\"Fare\",\"Title\"]\n",
    "\n",
    "X = pd.get_dummies(train_data[features])\n",
    "X_test = pd.get_dummies(test_data[features])\n",
    "\n",
    "model = RandomForestClassifier(n_estimators=100, max_depth=5, random_state=1)\n",
    "scores = cross_val_score(model, X, y, cv=5, scoring='accuracy')\n",
    "print(\"MAE scores:\\n\", scores.mean())\n",
    "model.fit(X, y)\n",
    "predictions = model.predict(X_test)\n",
    "\n",
    "output = pd.DataFrame({'PassengerId': test_data.PassengerId, 'Survived': predictions})\n",
    "output.to_csv('submission.csv', index=False)\n",
    "print(\"Your submission was successfully saved!\")"
   ]
  }
 ],
 "metadata": {
  "kernelspec": {
   "display_name": "Python 3",
   "language": "python",
   "name": "python3"
  },
  "language_info": {
   "codemirror_mode": {
    "name": "ipython",
    "version": 3
   },
   "file_extension": ".py",
   "mimetype": "text/x-python",
   "name": "python",
   "nbconvert_exporter": "python",
   "pygments_lexer": "ipython3",
   "version": "3.7.12"
  },
  "papermill": {
   "default_parameters": {},
   "duration": 12.55611,
   "end_time": "2022-10-27T07:11:47.106454",
   "environment_variables": {},
   "exception": null,
   "input_path": "__notebook__.ipynb",
   "output_path": "__notebook__.ipynb",
   "parameters": {},
   "start_time": "2022-10-27T07:11:34.550344",
   "version": "2.3.4"
  }
 },
 "nbformat": 4,
 "nbformat_minor": 5
}
