{
 "cells": [
  {
   "cell_type": "code",
   "execution_count": 1,
   "id": "7db532ce",
   "metadata": {
    "_cell_guid": "b1076dfc-b9ad-4769-8c92-a6c4dae69d19",
    "_uuid": "8f2839f25d086af736a60e9eeb907d3b93b6e0e5",
    "execution": {
     "iopub.execute_input": "2022-10-27T08:22:41.965309Z",
     "iopub.status.busy": "2022-10-27T08:22:41.964469Z",
     "iopub.status.idle": "2022-10-27T08:22:41.978201Z",
     "shell.execute_reply": "2022-10-27T08:22:41.977033Z"
    },
    "papermill": {
     "duration": 0.022262,
     "end_time": "2022-10-27T08:22:41.980911",
     "exception": false,
     "start_time": "2022-10-27T08:22:41.958649",
     "status": "completed"
    },
    "tags": []
   },
   "outputs": [
    {
     "name": "stdout",
     "output_type": "stream",
     "text": [
      "/kaggle/input/titanic/train.csv\n",
      "/kaggle/input/titanic/test.csv\n",
      "/kaggle/input/titanic/gender_submission.csv\n"
     ]
    }
   ],
   "source": [
    "import numpy as np \n",
    "import pandas as pd \n",
    "import os\n",
    "\n",
    "for dirname, _, filenames in os.walk('/kaggle/input'):\n",
    "    for filename in filenames:\n",
    "        print(os.path.join(dirname, filename))"
   ]
  },
  {
   "cell_type": "code",
   "execution_count": 2,
   "id": "c33b7e55",
   "metadata": {
    "execution": {
     "iopub.execute_input": "2022-10-27T08:22:41.989118Z",
     "iopub.status.busy": "2022-10-27T08:22:41.988332Z",
     "iopub.status.idle": "2022-10-27T08:22:42.052198Z",
     "shell.execute_reply": "2022-10-27T08:22:42.050876Z"
    },
    "papermill": {
     "duration": 0.070853,
     "end_time": "2022-10-27T08:22:42.054938",
     "exception": false,
     "start_time": "2022-10-27T08:22:41.984085",
     "status": "completed"
    },
    "tags": []
   },
   "outputs": [
    {
     "data": {
      "text/html": [
       "<div>\n",
       "<style scoped>\n",
       "    .dataframe tbody tr th:only-of-type {\n",
       "        vertical-align: middle;\n",
       "    }\n",
       "\n",
       "    .dataframe tbody tr th {\n",
       "        vertical-align: top;\n",
       "    }\n",
       "\n",
       "    .dataframe thead th {\n",
       "        text-align: right;\n",
       "    }\n",
       "</style>\n",
       "<table border=\"1\" class=\"dataframe\">\n",
       "  <thead>\n",
       "    <tr style=\"text-align: right;\">\n",
       "      <th></th>\n",
       "      <th>PassengerId</th>\n",
       "      <th>Pclass</th>\n",
       "      <th>Name</th>\n",
       "      <th>Sex</th>\n",
       "      <th>Age</th>\n",
       "      <th>SibSp</th>\n",
       "      <th>Parch</th>\n",
       "      <th>Ticket</th>\n",
       "      <th>Fare</th>\n",
       "      <th>Cabin</th>\n",
       "      <th>Embarked</th>\n",
       "    </tr>\n",
       "  </thead>\n",
       "  <tbody>\n",
       "    <tr>\n",
       "      <th>0</th>\n",
       "      <td>892</td>\n",
       "      <td>3</td>\n",
       "      <td>Kelly, Mr. James</td>\n",
       "      <td>male</td>\n",
       "      <td>34.5</td>\n",
       "      <td>0</td>\n",
       "      <td>0</td>\n",
       "      <td>330911</td>\n",
       "      <td>7.8292</td>\n",
       "      <td>NaN</td>\n",
       "      <td>Q</td>\n",
       "    </tr>\n",
       "    <tr>\n",
       "      <th>1</th>\n",
       "      <td>893</td>\n",
       "      <td>3</td>\n",
       "      <td>Wilkes, Mrs. James (Ellen Needs)</td>\n",
       "      <td>female</td>\n",
       "      <td>47.0</td>\n",
       "      <td>1</td>\n",
       "      <td>0</td>\n",
       "      <td>363272</td>\n",
       "      <td>7.0000</td>\n",
       "      <td>NaN</td>\n",
       "      <td>S</td>\n",
       "    </tr>\n",
       "    <tr>\n",
       "      <th>2</th>\n",
       "      <td>894</td>\n",
       "      <td>2</td>\n",
       "      <td>Myles, Mr. Thomas Francis</td>\n",
       "      <td>male</td>\n",
       "      <td>62.0</td>\n",
       "      <td>0</td>\n",
       "      <td>0</td>\n",
       "      <td>240276</td>\n",
       "      <td>9.6875</td>\n",
       "      <td>NaN</td>\n",
       "      <td>Q</td>\n",
       "    </tr>\n",
       "    <tr>\n",
       "      <th>3</th>\n",
       "      <td>895</td>\n",
       "      <td>3</td>\n",
       "      <td>Wirz, Mr. Albert</td>\n",
       "      <td>male</td>\n",
       "      <td>27.0</td>\n",
       "      <td>0</td>\n",
       "      <td>0</td>\n",
       "      <td>315154</td>\n",
       "      <td>8.6625</td>\n",
       "      <td>NaN</td>\n",
       "      <td>S</td>\n",
       "    </tr>\n",
       "    <tr>\n",
       "      <th>4</th>\n",
       "      <td>896</td>\n",
       "      <td>3</td>\n",
       "      <td>Hirvonen, Mrs. Alexander (Helga E Lindqvist)</td>\n",
       "      <td>female</td>\n",
       "      <td>22.0</td>\n",
       "      <td>1</td>\n",
       "      <td>1</td>\n",
       "      <td>3101298</td>\n",
       "      <td>12.2875</td>\n",
       "      <td>NaN</td>\n",
       "      <td>S</td>\n",
       "    </tr>\n",
       "  </tbody>\n",
       "</table>\n",
       "</div>"
      ],
      "text/plain": [
       "   PassengerId  Pclass                                          Name     Sex  \\\n",
       "0          892       3                              Kelly, Mr. James    male   \n",
       "1          893       3              Wilkes, Mrs. James (Ellen Needs)  female   \n",
       "2          894       2                     Myles, Mr. Thomas Francis    male   \n",
       "3          895       3                              Wirz, Mr. Albert    male   \n",
       "4          896       3  Hirvonen, Mrs. Alexander (Helga E Lindqvist)  female   \n",
       "\n",
       "    Age  SibSp  Parch   Ticket     Fare Cabin Embarked  \n",
       "0  34.5      0      0   330911   7.8292   NaN        Q  \n",
       "1  47.0      1      0   363272   7.0000   NaN        S  \n",
       "2  62.0      0      0   240276   9.6875   NaN        Q  \n",
       "3  27.0      0      0   315154   8.6625   NaN        S  \n",
       "4  22.0      1      1  3101298  12.2875   NaN        S  "
      ]
     },
     "execution_count": 2,
     "metadata": {},
     "output_type": "execute_result"
    }
   ],
   "source": [
    "# loading data\n",
    "train_data = pd.read_csv(\"/kaggle/input/titanic/train.csv\")\n",
    "train_data.head()\n",
    "test_data = pd.read_csv(\"/kaggle/input/titanic/test.csv\")\n",
    "test_data.head()"
   ]
  },
  {
   "cell_type": "code",
   "execution_count": null,
   "id": "820f1ded",
   "metadata": {
    "papermill": {
     "duration": 0.002823,
     "end_time": "2022-10-27T08:22:42.061017",
     "exception": false,
     "start_time": "2022-10-27T08:22:42.058194",
     "status": "completed"
    },
    "tags": []
   },
   "outputs": [],
   "source": []
  },
  {
   "cell_type": "code",
   "execution_count": 3,
   "id": "520250d0",
   "metadata": {
    "execution": {
     "iopub.execute_input": "2022-10-27T08:22:42.069797Z",
     "iopub.status.busy": "2022-10-27T08:22:42.069017Z",
     "iopub.status.idle": "2022-10-27T08:22:42.118954Z",
     "shell.execute_reply": "2022-10-27T08:22:42.117517Z"
    },
    "papermill": {
     "duration": 0.057682,
     "end_time": "2022-10-27T08:22:42.121881",
     "exception": false,
     "start_time": "2022-10-27T08:22:42.064199",
     "status": "completed"
    },
    "tags": []
   },
   "outputs": [],
   "source": [
    "# Preprocessing data\n",
    "\n",
    "all_data = [train_data,test_data]\n",
    "\n",
    "#creating column for titles \n",
    "title_list = ['Mr.', 'Mrs.', 'Miss.', 'Master.', 'Ms.', 'Col.', 'Rev.', 'Dr.']\n",
    "\n",
    "for data in all_data:\n",
    "    # extract title from name\n",
    "    titles = data['Name'].str.extract(r', (\\w+\\.)')\n",
    "    \n",
    "    # add a column with titles that match to predifined title list\n",
    "    data[\"Title\"] = titles.where(titles.isin(title_list))\n",
    "    \n",
    "    # if no title is found replace with Mrs. \n",
    "    data['Title'].fillna(\"Mrs.\",inplace = True)\n",
    "    \n",
    "# guessing age by title (mean) \n",
    "\n",
    "for data in all_data:\n",
    "    #grouping data by title and calculating mean age of every group\n",
    "    mean_age_by_title = data.groupby(data[\"Title\"])[\"Age\"].mean()\n",
    "    \n",
    "    #Replace 0 age with mean_age_by_title\n",
    "    data.replace({\"Age\":{0 or np.nan:mean_age_by_title[data[\"Title\"]]}},inplace = True)\n",
    "    data[\"Age\"]= data[\"Age\"].fillna(0).astype(int)\n",
    "    \n",
    "# Fare and embarked\n",
    "for data in all_data:\n",
    "    # Filling the missing value in Fare with the median Fare of 3rd class alone passenger\n",
    "    med_fare = data.groupby(['Pclass', 'Parch', 'SibSp']).Fare.median()[3][0][0]\n",
    "    data['Fare'] = data['Fare'].fillna(med_fare)\n",
    "    #data[\"Fare\"]= data[\"Fare\"].fillna(train_data[\"Fare\"].mean()).astype(int)    \n",
    "    data['Embarked'] = data['Embarked'].fillna('S')\n",
    "    \n",
    "#Family Size\n",
    "for data in all_data:\n",
    "    data['Family_Size'] = data['SibSp'] + data['Parch'] + 1\n",
    "    "
   ]
  },
  {
   "cell_type": "code",
   "execution_count": 4,
   "id": "4120c08e",
   "metadata": {
    "execution": {
     "iopub.execute_input": "2022-10-27T08:22:42.130391Z",
     "iopub.status.busy": "2022-10-27T08:22:42.129937Z",
     "iopub.status.idle": "2022-10-27T08:22:42.147024Z",
     "shell.execute_reply": "2022-10-27T08:22:42.145593Z"
    },
    "papermill": {
     "duration": 0.024556,
     "end_time": "2022-10-27T08:22:42.149788",
     "exception": false,
     "start_time": "2022-10-27T08:22:42.125232",
     "status": "completed"
    },
    "tags": []
   },
   "outputs": [
    {
     "name": "stdout",
     "output_type": "stream",
     "text": [
      "<class 'pandas.core.frame.DataFrame'>\n",
      "RangeIndex: 891 entries, 0 to 890\n",
      "Data columns (total 14 columns):\n",
      " #   Column       Non-Null Count  Dtype  \n",
      "---  ------       --------------  -----  \n",
      " 0   PassengerId  891 non-null    int64  \n",
      " 1   Survived     891 non-null    int64  \n",
      " 2   Pclass       891 non-null    int64  \n",
      " 3   Name         891 non-null    object \n",
      " 4   Sex          891 non-null    object \n",
      " 5   Age          891 non-null    int64  \n",
      " 6   SibSp        891 non-null    int64  \n",
      " 7   Parch        891 non-null    int64  \n",
      " 8   Ticket       891 non-null    object \n",
      " 9   Fare         891 non-null    float64\n",
      " 10  Cabin        204 non-null    object \n",
      " 11  Embarked     891 non-null    object \n",
      " 12  Title        891 non-null    object \n",
      " 13  Family_Size  891 non-null    int64  \n",
      "dtypes: float64(1), int64(7), object(6)\n",
      "memory usage: 97.6+ KB\n"
     ]
    }
   ],
   "source": [
    "train_data.info()"
   ]
  },
  {
   "cell_type": "code",
   "execution_count": 5,
   "id": "8cfd436c",
   "metadata": {
    "execution": {
     "iopub.execute_input": "2022-10-27T08:22:42.160710Z",
     "iopub.status.busy": "2022-10-27T08:22:42.157993Z",
     "iopub.status.idle": "2022-10-27T08:22:42.175426Z",
     "shell.execute_reply": "2022-10-27T08:22:42.174160Z"
    },
    "papermill": {
     "duration": 0.024653,
     "end_time": "2022-10-27T08:22:42.177944",
     "exception": false,
     "start_time": "2022-10-27T08:22:42.153291",
     "status": "completed"
    },
    "tags": []
   },
   "outputs": [
    {
     "name": "stdout",
     "output_type": "stream",
     "text": [
      "<class 'pandas.core.frame.DataFrame'>\n",
      "RangeIndex: 418 entries, 0 to 417\n",
      "Data columns (total 13 columns):\n",
      " #   Column       Non-Null Count  Dtype  \n",
      "---  ------       --------------  -----  \n",
      " 0   PassengerId  418 non-null    int64  \n",
      " 1   Pclass       418 non-null    int64  \n",
      " 2   Name         418 non-null    object \n",
      " 3   Sex          418 non-null    object \n",
      " 4   Age          418 non-null    int64  \n",
      " 5   SibSp        418 non-null    int64  \n",
      " 6   Parch        418 non-null    int64  \n",
      " 7   Ticket       418 non-null    object \n",
      " 8   Fare         418 non-null    float64\n",
      " 9   Cabin        91 non-null     object \n",
      " 10  Embarked     418 non-null    object \n",
      " 11  Title        418 non-null    object \n",
      " 12  Family_Size  418 non-null    int64  \n",
      "dtypes: float64(1), int64(6), object(6)\n",
      "memory usage: 42.6+ KB\n"
     ]
    }
   ],
   "source": [
    "test_data.info()"
   ]
  },
  {
   "cell_type": "code",
   "execution_count": 6,
   "id": "7f01b923",
   "metadata": {
    "execution": {
     "iopub.execute_input": "2022-10-27T08:22:42.186945Z",
     "iopub.status.busy": "2022-10-27T08:22:42.186513Z",
     "iopub.status.idle": "2022-10-27T08:22:45.012214Z",
     "shell.execute_reply": "2022-10-27T08:22:45.009859Z"
    },
    "papermill": {
     "duration": 2.834271,
     "end_time": "2022-10-27T08:22:45.015710",
     "exception": false,
     "start_time": "2022-10-27T08:22:42.181439",
     "status": "completed"
    },
    "tags": []
   },
   "outputs": [
    {
     "name": "stdout",
     "output_type": "stream",
     "text": [
      "MAE scores:\n",
      " 0.8316301550436258\n",
      "Your submission was successfully saved!\n"
     ]
    }
   ],
   "source": [
    "from sklearn.ensemble import RandomForestClassifier\n",
    "from sklearn.impute import SimpleImputer\n",
    "from sklearn.model_selection import cross_val_score\n",
    "\n",
    "\n",
    "y = train_data[\"Survived\"]\n",
    "\n",
    "features = [\"Pclass\",\"Sex\",\"Age\",\"SibSp\",\"Parch\",\"Embarked\",\"Fare\",\"Title\",\"Family_Size\"]\n",
    "\n",
    "X = pd.get_dummies(train_data[features])\n",
    "X_test = pd.get_dummies(test_data[features])\n",
    "\n",
    "model = RandomForestClassifier(n_estimators=100, max_depth=5, random_state=1)\n",
    "model2 = RandomForestClassifier(criterion='gini', \n",
    "                                           n_estimators=1100,\n",
    "                                           max_depth=5,\n",
    "                                           min_samples_split=4,\n",
    "                                           min_samples_leaf=5,\n",
    "                                           max_features='auto',\n",
    "                                           oob_score=True,\n",
    "                                           random_state=42,\n",
    "                                           n_jobs=-1,\n",
    "                                           verbose=1)\n",
    "scores = cross_val_score(model, X, y, cv=5, scoring='accuracy')\n",
    "print(\"MAE scores:\\n\", scores.mean())\n",
    "model.fit(X, y)\n",
    "predictions = model.predict(X_test)\n",
    "\n",
    "output = pd.DataFrame({'PassengerId': test_data.PassengerId, 'Survived': predictions})\n",
    "output.to_csv('submission.csv', index=False)\n",
    "print(\"Your submission was successfully saved!\")"
   ]
  }
 ],
 "metadata": {
  "kernelspec": {
   "display_name": "Python 3",
   "language": "python",
   "name": "python3"
  },
  "language_info": {
   "codemirror_mode": {
    "name": "ipython",
    "version": 3
   },
   "file_extension": ".py",
   "mimetype": "text/x-python",
   "name": "python",
   "nbconvert_exporter": "python",
   "pygments_lexer": "ipython3",
   "version": "3.7.12"
  },
  "papermill": {
   "default_parameters": {},
   "duration": 13.451998,
   "end_time": "2022-10-27T08:22:45.844495",
   "environment_variables": {},
   "exception": null,
   "input_path": "__notebook__.ipynb",
   "output_path": "__notebook__.ipynb",
   "parameters": {},
   "start_time": "2022-10-27T08:22:32.392497",
   "version": "2.3.4"
  }
 },
 "nbformat": 4,
 "nbformat_minor": 5
}
